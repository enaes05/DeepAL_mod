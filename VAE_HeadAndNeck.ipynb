{
  "cells": [
    {
      "cell_type": "code",
      "execution_count": null,
      "metadata": {
        "id": "git7FzaynGZ0"
      },
      "outputs": [],
      "source": [
        "import pandas as pd"
      ]
    },
    {
      "cell_type": "code",
      "execution_count": null,
      "metadata": {
        "colab": {
          "base_uri": "https://localhost:8080/"
        },
        "id": "g8jtdeCDnGZ9",
        "outputId": "951245d8-235c-4644-a8ec-581483a67f03"
      },
      "outputs": [
        {
          "output_type": "execute_result",
          "data": {
            "text/plain": [
              "(60498, 45)"
            ]
          },
          "metadata": {},
          "execution_count": 4
        }
      ],
      "source": [
        "# Load negative instances (non-cancer)\n",
        "df_normal=pd.read_csv('primarysite_HeadandNeckregion_sampletype_SolidTissueNormal.csv')\n",
        "df_normal.shape"
      ]
    },
    {
      "cell_type": "code",
      "execution_count": null,
      "metadata": {
        "colab": {
          "base_uri": "https://localhost:8080/"
        },
        "id": "Win2mihxsmUh",
        "outputId": "f5ff3d8f-8799-44b3-9741-0139f4b96ffd"
      },
      "outputs": [
        {
          "output_type": "stream",
          "name": "stdout",
          "text": [
            "          id  TCGA-CV-6959-11  TCGA-CV-6962-11  TCGA-CV-7245-11  \\\n",
            "0          0           0.0000           0.0000           0.0000   \n",
            "1          1           0.0000           0.0000           0.0000   \n",
            "2          2           1.7409           0.0000           3.2480   \n",
            "3          3          10.0184          10.1015           9.7170   \n",
            "4          4           0.0000           0.0000           0.0000   \n",
            "...      ...              ...              ...              ...   \n",
            "60493  60493           0.0000           0.0000           0.9594   \n",
            "60494  60494          12.5696          12.7580          12.2076   \n",
            "60495  60495           3.0049           3.1965           3.3847   \n",
            "60496  60496           0.0000           0.0000           0.0000   \n",
            "60497  60497           0.0000           0.0000           0.0000   \n",
            "\n",
            "       TCGA-CV-7261-11  TCGA-CV-7250-11  TCGA-CV-7434-11  TCGA-CV-7437-11  \\\n",
            "0               0.0000           0.0000           0.0000           0.0000   \n",
            "1               0.0000           0.0000           0.0000           0.0000   \n",
            "2               0.0000           3.2555           0.0000           0.5906   \n",
            "3               9.4075           9.5450           9.7098           9.8561   \n",
            "4               0.0000           0.0000           0.0000           0.0000   \n",
            "...                ...              ...              ...              ...   \n",
            "60493           0.0000           0.0000           0.8508           0.5906   \n",
            "60494          12.7822          12.8833          11.8332          13.0070   \n",
            "60495           3.0869           1.6497           4.2231           3.0148   \n",
            "60496           0.0000           0.0000           0.0000           0.0000   \n",
            "60497           0.0000           0.0000           0.0000           0.0000   \n",
            "\n",
            "       TCGA-CV-7423-11  TCGA-CV-7103-11  ...  TCGA-H7-A6C5-11  \\\n",
            "0               0.0000           0.0000  ...           0.0000   \n",
            "1               0.0000           0.0000  ...           0.0000   \n",
            "2               0.0000           0.0000  ...           3.3599   \n",
            "3              10.4503           9.7203  ...          10.8741   \n",
            "4               0.0000           0.0000  ...           0.0000   \n",
            "...                ...              ...  ...              ...   \n",
            "60493           1.0592           0.0000  ...           1.2165   \n",
            "60494          12.6789          12.2039  ...          12.9329   \n",
            "60495           3.9155           2.2475  ...           6.2058   \n",
            "60496           0.0000           0.0000  ...           0.0000   \n",
            "60497           0.0000           0.0000  ...           0.0000   \n",
            "\n",
            "       TCGA-CV-7177-11  TCGA-CV-6943-11  TCGA-CV-7438-11  TCGA-CV-6960-11  \\\n",
            "0               0.0000           0.0000           0.0000           0.0000   \n",
            "1               0.0000           0.0000           0.0000           0.0000   \n",
            "2               0.0000           0.0000           0.0000           0.0000   \n",
            "3               9.8891          10.2143           9.7337           8.9229   \n",
            "4               0.0000           0.0000           0.0000           0.0000   \n",
            "...                ...              ...              ...              ...   \n",
            "60493           0.9283           1.0746           0.0000           0.8920   \n",
            "60494          12.6587          12.4272          12.5076          12.2548   \n",
            "60495           3.7699           2.7073           0.8735           2.6170   \n",
            "60496           0.0000           0.0000           0.0000           0.0000   \n",
            "60497           0.0000           0.0000           0.0000           0.0000   \n",
            "\n",
            "       TCGA-H7-A6C4-11  TCGA-CV-6933-11  TCGA-CV-7255-11  TCGA-CV-7235-11  \\\n",
            "0               0.0000           0.0000           0.0000           0.0000   \n",
            "1               0.0000           0.0000           0.0000           0.0000   \n",
            "2               4.3314           0.0000           0.0000           0.0000   \n",
            "3               9.9759           9.3743           9.9757          10.2545   \n",
            "4               0.0000           0.0000           0.0000           0.0000   \n",
            "...                ...              ...              ...              ...   \n",
            "60493           0.0000           1.9541           0.8492           0.0000   \n",
            "60494          11.7548          11.3624          12.6292          12.4341   \n",
            "60495           3.9400           4.8947           4.2806           5.3296   \n",
            "60496           0.0000           0.0000           0.0000           0.0000   \n",
            "60497           0.0000           0.0000           0.0000           0.0000   \n",
            "\n",
            "       TCGA-CV-6936-11  \n",
            "0               0.0000  \n",
            "1               0.0000  \n",
            "2               1.5998  \n",
            "3              10.1242  \n",
            "4               0.0000  \n",
            "...                ...  \n",
            "60493           1.0111  \n",
            "60494          12.7769  \n",
            "60495           2.6035  \n",
            "60496           0.0000  \n",
            "60497           0.0000  \n",
            "\n",
            "[60498 rows x 45 columns]\n"
          ]
        }
      ],
      "source": [
        "print(df_normal)"
      ]
    },
    {
      "cell_type": "code",
      "execution_count": null,
      "metadata": {
        "colab": {
          "base_uri": "https://localhost:8080/"
        },
        "id": "zVlCkFr9nGaA",
        "outputId": "67bf7d46-2951-4e69-8c40-c2acba2af41c"
      },
      "outputs": [
        {
          "output_type": "stream",
          "name": "stdout",
          "text": [
            "before insert label at last column:  (45, 60498)\n",
            "after insert label at last column:  (45, 60499)\n"
          ]
        }
      ],
      "source": [
        "df_normal=df_normal.T\n",
        "print('before insert label at last column: ', df_normal.shape)\n",
        "# Insert 'label' attribute with value 0\n",
        "df_normal['label']=0\n",
        "print('after insert label at last column: ', df_normal.shape)"
      ]
    },
    {
      "cell_type": "code",
      "execution_count": null,
      "metadata": {
        "colab": {
          "base_uri": "https://localhost:8080/"
        },
        "id": "y4RHg1KUsReo",
        "outputId": "3103a4a0-e3ed-4ff4-827b-8d7776824294"
      },
      "outputs": [
        {
          "output_type": "stream",
          "name": "stdout",
          "text": [
            "                      0    1       2        3    4        5       6    7  \\\n",
            "id               0.0000  1.0  2.0000   3.0000  4.0   5.0000  6.0000  7.0   \n",
            "TCGA-CV-6959-11  0.0000  0.0  1.7409  10.0184  0.0   9.2564  3.3743  0.0   \n",
            "TCGA-CV-6962-11  0.0000  0.0  0.0000  10.1015  0.0   8.2672  3.1965  0.0   \n",
            "TCGA-CV-7245-11  0.0000  0.0  3.2480   9.7170  0.0   9.0315  0.0000  0.0   \n",
            "TCGA-CV-7261-11  0.0000  0.0  0.0000   9.4075  0.0   8.5670  4.4678  0.0   \n",
            "TCGA-CV-7250-11  0.0000  0.0  3.2555   9.5450  0.0   9.3509  3.6732  0.0   \n",
            "TCGA-CV-7434-11  0.0000  0.0  0.0000   9.7098  0.0   9.2921  2.3269  0.0   \n",
            "TCGA-CV-7437-11  0.0000  0.0  0.5906   9.8561  0.0   8.5962  3.4076  0.0   \n",
            "TCGA-CV-7423-11  0.0000  0.0  0.0000  10.4503  0.0   9.2061  2.9075  0.0   \n",
            "TCGA-CV-7103-11  0.0000  0.0  0.0000   9.7203  0.0   9.5027  3.4994  0.0   \n",
            "TCGA-CV-7101-11  0.0000  0.0  0.7628   9.8148  0.0   8.2940  5.9616  0.0   \n",
            "TCGA-CV-7238-11  0.0000  0.0  3.8053   9.5267  0.0   9.6464  2.4132  0.0   \n",
            "TCGA-CV-7091-11  0.0000  0.0  5.2389   9.0518  0.0   9.1097  0.0000  0.0   \n",
            "TCGA-CV-7097-11  0.0000  0.0  3.2188  10.1692  0.0   9.6287  2.7941  0.0   \n",
            "TCGA-CV-6955-11  0.0000  0.0  2.4550   9.8776  0.0   9.5724  0.9234  0.0   \n",
            "TCGA-HD-8635-11  1.1157  0.0  1.1157   9.5734  0.0   9.2195  2.1702  0.0   \n",
            "TCGA-CV-7425-11  0.0000  0.0  0.0000  10.3669  0.0  10.0278  0.0000  0.0   \n",
            "TCGA-CV-7440-11  0.0000  0.0  0.7675   9.9985  0.0   9.4407  1.9296  0.0   \n",
            "TCGA-CV-6934-11  0.8866  0.0  2.3907  11.1007  0.0   8.4436  4.3591  0.0   \n",
            "TCGA-CV-7252-11  0.0000  0.0  1.1465  10.1309  0.0   9.7032  3.4208  0.0   \n",
            "TCGA-CV-6935-11  0.0000  0.0  0.0000   9.9779  0.0   8.9753  2.9372  0.0   \n",
            "TCGA-CV-6961-11  1.3238  0.0  0.0000  10.1762  0.0  10.6293  0.0000  0.0   \n",
            "TCGA-CV-6938-11  0.0000  0.0  0.0000   9.9483  0.0   9.8693  4.7989  0.0   \n",
            "TCGA-HD-A6I0-11  0.0000  0.0  0.0000  11.6463  0.0   9.7668  0.0000  0.0   \n",
            "TCGA-CV-7424-11  0.9119  0.0  0.9119   9.7913  0.0   8.9657  3.7379  0.0   \n",
            "TCGA-WA-A7GZ-11  0.0000  0.0  4.8521   9.4026  0.0   8.2083  3.9639  0.0   \n",
            "TCGA-CV-7432-11  0.0000  0.0  1.0094  10.2380  0.0   8.2902  1.0094  0.0   \n",
            "TCGA-CV-7406-11  0.0000  0.0  2.6870   9.5393  0.0   9.4987  2.4201  0.0   \n",
            "TCGA-CV-7242-11  0.0000  0.0  0.0000  10.0527  0.0   9.2550  4.2417  0.0   \n",
            "TCGA-CV-6939-11  0.0000  0.0  5.2377   8.7375  0.0   8.5564  1.2391  0.0   \n",
            "TCGA-CV-7416-11  0.0000  0.0  0.0000   9.9585  0.0  10.3246  2.4298  0.0   \n",
            "TCGA-CV-7178-11  0.0000  0.0  0.0000  10.2179  0.0   8.4782  4.4684  0.0   \n",
            "TCGA-HD-A6HZ-11  0.0000  0.0  4.8037  11.8217  0.0   7.8865  3.8545  0.0   \n",
            "TCGA-CV-6956-11  0.0000  0.0  2.7638  10.5943  0.0  10.0392  2.7638  0.0   \n",
            "TCGA-CV-7183-11  0.0000  0.0  0.0000  10.6990  0.0   9.5054  3.1405  0.0   \n",
            "TCGA-H7-A6C5-11  0.0000  0.0  3.3599  10.8741  0.0   8.6797  2.9297  0.0   \n",
            "TCGA-CV-7177-11  0.0000  0.0  0.0000   9.8891  0.0   9.3388  4.3192  0.0   \n",
            "TCGA-CV-6943-11  0.0000  0.0  0.0000  10.2143  0.0   9.7748  2.4396  0.0   \n",
            "TCGA-CV-7438-11  0.0000  0.0  0.0000   9.7337  0.0   9.2470  2.5832  0.0   \n",
            "TCGA-CV-6960-11  0.0000  0.0  0.0000   8.9229  0.0   8.4624  2.8053  0.0   \n",
            "TCGA-H7-A6C4-11  0.0000  0.0  4.3314   9.9759  0.0   9.1185  3.6041  0.0   \n",
            "TCGA-CV-6933-11  0.0000  0.0  0.0000   9.3743  0.0   7.7968  1.9541  0.0   \n",
            "TCGA-CV-7255-11  0.0000  0.0  0.0000   9.9757  0.0   9.4576  1.3802  0.0   \n",
            "TCGA-CV-7235-11  0.0000  0.0  0.0000  10.2545  0.0   9.3572  0.0000  0.0   \n",
            "TCGA-CV-6936-11  0.0000  0.0  1.5998  10.1242  0.0   9.0445  4.4806  0.0   \n",
            "\n",
            "                       8        9  ...       60489    60490       60491  \\\n",
            "id                8.0000   9.0000  ...  60489.0000  60490.0  60491.0000   \n",
            "TCGA-CV-6959-11  11.4701   7.1531  ...      0.0000      0.0      5.9519   \n",
            "TCGA-CV-6962-11  11.7575   7.8689  ...      0.0000      0.0      4.3647   \n",
            "TCGA-CV-7245-11  11.0222   5.9189  ...      0.0000      0.0      7.4019   \n",
            "TCGA-CV-7261-11  11.4357   6.4633  ...      0.0000      0.0      3.7298   \n",
            "TCGA-CV-7250-11  10.7042   4.5512  ...      0.0000      0.0      6.4167   \n",
            "TCGA-CV-7434-11  11.1222   6.7743  ...      0.0000      0.0      6.5821   \n",
            "TCGA-CV-7437-11  11.0006   7.1148  ...      0.0000      0.0      4.4084   \n",
            "TCGA-CV-7423-11  11.8727   5.7286  ...      1.0592      0.0      6.2020   \n",
            "TCGA-CV-7103-11  11.4068   6.5073  ...      0.0000      0.0      5.1569   \n",
            "TCGA-CV-7101-11  11.2592   6.5389  ...      0.0000      0.0      3.7595   \n",
            "TCGA-CV-7238-11  10.9230   5.1543  ...      0.0000      0.0      5.8116   \n",
            "TCGA-CV-7091-11  10.2596   3.6664  ...      0.0000      0.0      8.1296   \n",
            "TCGA-CV-7097-11  10.7251   3.3920  ...      0.0000      0.0      7.5590   \n",
            "TCGA-CV-6955-11  11.1986  11.2552  ...      0.0000      0.0      6.2875   \n",
            "TCGA-HD-8635-11  11.5310   5.6442  ...      0.0000      0.0      5.4652   \n",
            "TCGA-CV-7425-11  10.9014   7.3054  ...      0.0000      0.0      6.7415   \n",
            "TCGA-CV-7440-11  11.5772   8.3954  ...      0.0000      0.0      4.0402   \n",
            "TCGA-CV-6934-11  11.7880  12.9647  ...      0.0000      0.0      6.5732   \n",
            "TCGA-CV-7252-11  11.8257   6.5800  ...      0.0000      0.0      4.7273   \n",
            "TCGA-CV-6935-11  11.5705   6.7741  ...      0.0000      0.0      5.6019   \n",
            "TCGA-CV-6961-11  11.5615   6.9746  ...      0.0000      0.0      5.1528   \n",
            "TCGA-CV-6938-11  11.8535   6.8368  ...      0.0000      0.0      5.9686   \n",
            "TCGA-HD-A6I0-11  10.2152   5.2523  ...      0.0000      0.0     10.0313   \n",
            "TCGA-CV-7424-11  11.6649   7.7199  ...      0.0000      0.0      6.1604   \n",
            "TCGA-WA-A7GZ-11  11.6965   5.2546  ...      0.0000      0.0      4.7130   \n",
            "TCGA-CV-7432-11  11.8903   1.5975  ...      0.0000      0.0      5.3403   \n",
            "TCGA-CV-7406-11  10.2547   6.1422  ...      0.0000      0.0      6.4240   \n",
            "TCGA-CV-7242-11  11.2784   6.1833  ...      0.0000      0.0      6.5856   \n",
            "TCGA-CV-6939-11  10.3625   2.3452  ...      0.0000      0.0      4.3253   \n",
            "TCGA-CV-7416-11  11.6204   5.9127  ...      0.0000      0.0      5.2593   \n",
            "TCGA-CV-7178-11  11.1876   5.7999  ...      0.0000      0.0      4.8255   \n",
            "TCGA-HD-A6HZ-11  10.5203   6.9329  ...      0.0000      0.0      7.4871   \n",
            "TCGA-CV-6956-11  12.1737   5.2723  ...      0.0000      0.0      6.0479   \n",
            "TCGA-CV-7183-11  10.3560   6.8043  ...      0.0000      0.0      4.1651   \n",
            "TCGA-H7-A6C5-11  11.8854  12.2968  ...      0.0000      0.0      6.3057   \n",
            "TCGA-CV-7177-11  11.0095   7.8134  ...      0.0000      0.0      3.7699   \n",
            "TCGA-CV-6943-11  11.3464   6.8167  ...      0.0000      0.0      4.8407   \n",
            "TCGA-CV-7438-11  11.2507   5.5215  ...      0.0000      0.0      5.2956   \n",
            "TCGA-CV-6960-11  10.8088   4.4288  ...      0.0000      0.0      4.9115   \n",
            "TCGA-H7-A6C4-11  10.7519   5.7009  ...      0.0000      0.0      5.8678   \n",
            "TCGA-CV-6933-11  11.0210   3.0333  ...      0.0000      0.0      4.8233   \n",
            "TCGA-CV-7255-11  11.7497   6.0072  ...      0.0000      0.0      5.2121   \n",
            "TCGA-CV-7235-11  11.6882   1.9786  ...      0.0000      0.0      6.7530   \n",
            "TCGA-CV-6936-11  11.6318   4.9284  ...      0.0000      0.0      5.9760   \n",
            "\n",
            "                      60492       60493       60494       60495    60496  \\\n",
            "id               60492.0000  60493.0000  60494.0000  60495.0000  60496.0   \n",
            "TCGA-CV-6959-11      1.3571      0.0000     12.5696      3.0049      0.0   \n",
            "TCGA-CV-6962-11      0.0000      0.0000     12.7580      3.1965      0.0   \n",
            "TCGA-CV-7245-11      0.0000      0.9594     12.2076      3.3847      0.0   \n",
            "TCGA-CV-7261-11      1.2407      0.0000     12.7822      3.0869      0.0   \n",
            "TCGA-CV-7250-11      0.0000      0.0000     12.8833      1.6497      0.0   \n",
            "TCGA-CV-7434-11      0.8508      0.8508     11.8332      4.2231      0.0   \n",
            "TCGA-CV-7437-11      0.0000      0.5906     13.0070      3.0148      0.0   \n",
            "TCGA-CV-7423-11      0.0000      1.0592     12.6789      3.9155      0.0   \n",
            "TCGA-CV-7103-11      0.0000      0.0000     12.2039      2.2475      0.0   \n",
            "TCGA-CV-7101-11      0.0000      0.0000     12.8214      2.8622      0.0   \n",
            "TCGA-CV-7238-11      0.0000      0.0000     12.3375      4.1064      0.0   \n",
            "TCGA-CV-7091-11      0.0000      1.4174     11.8438      4.3959      0.0   \n",
            "TCGA-CV-7097-11      0.0000      0.0000     11.7493      5.4895      0.0   \n",
            "TCGA-CV-6955-11      0.0000      0.0000     12.6992      3.4414      0.0   \n",
            "TCGA-HD-8635-11      0.0000      0.0000     13.0220      1.1157      0.0   \n",
            "TCGA-CV-7425-11      0.0000      1.1495     12.8083      1.7811      0.0   \n",
            "TCGA-CV-7440-11      0.7675      0.0000     13.4285      2.5647      0.0   \n",
            "TCGA-CV-6934-11      0.8866      0.0000     13.9381      4.1680      0.0   \n",
            "TCGA-CV-7252-11      0.0000      0.0000     12.9575      2.5496      0.0   \n",
            "TCGA-CV-6935-11      0.0000      0.0000     13.6331      3.5191      0.0   \n",
            "TCGA-CV-6961-11      0.0000      1.3238     13.3035      2.0023      0.0   \n",
            "TCGA-CV-6938-11      0.0000      0.0000     12.3493      3.9918      0.0   \n",
            "TCGA-HD-A6I0-11      3.4995      2.3573     13.1680      5.0871      0.0   \n",
            "TCGA-CV-7424-11      1.4663      1.4663     12.7603      2.6529      0.0   \n",
            "TCGA-WA-A7GZ-11      1.8700      1.2189     11.9830      3.9639      0.0   \n",
            "TCGA-CV-7432-11      0.0000      0.0000     11.8853      6.0185      0.0   \n",
            "TCGA-CV-7406-11      0.0000      1.6672     12.2853      4.4377      0.0   \n",
            "TCGA-CV-7242-11      0.0000      0.0000     12.9615      3.1359      0.0   \n",
            "TCGA-CV-6939-11      0.0000      0.0000     11.6269      3.9968      0.0   \n",
            "TCGA-CV-7416-11      0.0000      0.0000     13.1879      2.9227      0.0   \n",
            "TCGA-CV-7178-11      1.8019      1.1657     11.9751      4.8874      0.0   \n",
            "TCGA-HD-A6HZ-11      2.1264      2.1264     12.4725      5.9447      0.0   \n",
            "TCGA-CV-6956-11      1.2916      0.0000     13.2053      4.1997      0.0   \n",
            "TCGA-CV-7183-11      1.2035      0.0000     11.9845      1.8504      0.0   \n",
            "TCGA-H7-A6C5-11      0.0000      1.2165     12.9329      6.2058      0.0   \n",
            "TCGA-CV-7177-11      0.0000      0.9283     12.6587      3.7699      0.0   \n",
            "TCGA-CV-6943-11      0.0000      1.0746     12.4272      2.7073      0.0   \n",
            "TCGA-CV-7438-11      0.0000      0.0000     12.5076      0.8735      0.0   \n",
            "TCGA-CV-6960-11      0.0000      0.8920     12.2548      2.6170      0.0   \n",
            "TCGA-H7-A6C4-11      0.0000      0.0000     11.7548      3.9400      0.0   \n",
            "TCGA-CV-6933-11      0.0000      1.9541     11.3624      4.8947      0.0   \n",
            "TCGA-CV-7255-11      0.0000      0.8492     12.6292      4.2806      0.0   \n",
            "TCGA-CV-7235-11      0.0000      0.0000     12.4341      5.3296      0.0   \n",
            "TCGA-CV-6936-11      1.0111      1.0111     12.7769      2.6035      0.0   \n",
            "\n",
            "                   60497  label  \n",
            "id               60497.0      0  \n",
            "TCGA-CV-6959-11      0.0      0  \n",
            "TCGA-CV-6962-11      0.0      0  \n",
            "TCGA-CV-7245-11      0.0      0  \n",
            "TCGA-CV-7261-11      0.0      0  \n",
            "TCGA-CV-7250-11      0.0      0  \n",
            "TCGA-CV-7434-11      0.0      0  \n",
            "TCGA-CV-7437-11      0.0      0  \n",
            "TCGA-CV-7423-11      0.0      0  \n",
            "TCGA-CV-7103-11      0.0      0  \n",
            "TCGA-CV-7101-11      0.0      0  \n",
            "TCGA-CV-7238-11      0.0      0  \n",
            "TCGA-CV-7091-11      0.0      0  \n",
            "TCGA-CV-7097-11      0.0      0  \n",
            "TCGA-CV-6955-11      0.0      0  \n",
            "TCGA-HD-8635-11      0.0      0  \n",
            "TCGA-CV-7425-11      0.0      0  \n",
            "TCGA-CV-7440-11      0.0      0  \n",
            "TCGA-CV-6934-11      0.0      0  \n",
            "TCGA-CV-7252-11      0.0      0  \n",
            "TCGA-CV-6935-11      0.0      0  \n",
            "TCGA-CV-6961-11      0.0      0  \n",
            "TCGA-CV-6938-11      0.0      0  \n",
            "TCGA-HD-A6I0-11      0.0      0  \n",
            "TCGA-CV-7424-11      0.0      0  \n",
            "TCGA-WA-A7GZ-11      0.0      0  \n",
            "TCGA-CV-7432-11      0.0      0  \n",
            "TCGA-CV-7406-11      0.0      0  \n",
            "TCGA-CV-7242-11      0.0      0  \n",
            "TCGA-CV-6939-11      0.0      0  \n",
            "TCGA-CV-7416-11      0.0      0  \n",
            "TCGA-CV-7178-11      0.0      0  \n",
            "TCGA-HD-A6HZ-11      0.0      0  \n",
            "TCGA-CV-6956-11      0.0      0  \n",
            "TCGA-CV-7183-11      0.0      0  \n",
            "TCGA-H7-A6C5-11      0.0      0  \n",
            "TCGA-CV-7177-11      0.0      0  \n",
            "TCGA-CV-6943-11      0.0      0  \n",
            "TCGA-CV-7438-11      0.0      0  \n",
            "TCGA-CV-6960-11      0.0      0  \n",
            "TCGA-H7-A6C4-11      0.0      0  \n",
            "TCGA-CV-6933-11      0.0      0  \n",
            "TCGA-CV-7255-11      0.0      0  \n",
            "TCGA-CV-7235-11      0.0      0  \n",
            "TCGA-CV-6936-11      0.0      0  \n",
            "\n",
            "[45 rows x 60499 columns]\n"
          ]
        }
      ],
      "source": [
        "print(df_normal)"
      ]
    },
    {
      "cell_type": "code",
      "execution_count": null,
      "metadata": {
        "colab": {
          "base_uri": "https://localhost:8080/"
        },
        "id": "THXj-vzsnGaC",
        "outputId": "665c94b5-b5be-4de2-d384-d38bec3ec50c"
      },
      "outputs": [
        {
          "output_type": "stream",
          "name": "stdout",
          "text": [
            "(60498, 519)\n",
            "before insert label at last column:  (519, 60498)\n",
            "after insert label at last column:  (519, 60499)\n"
          ]
        }
      ],
      "source": [
        "# Load positive instances (cancer)\n",
        "df_abnormal=pd.read_csv('primarysite_HeadandNeckregion_sampletype_PrimaryTumor.csv')\n",
        "print(df_abnormal.shape)\n",
        "df_abnormal=df_abnormal.T\n",
        "print('before insert label at last column: ', df_abnormal.shape)\n",
        "# Insert 'label' attribute with value 1\n",
        "df_abnormal['label']=1\n",
        "print('after insert label at last column: ', df_abnormal.shape)"
      ]
    },
    {
      "cell_type": "code",
      "execution_count": null,
      "metadata": {
        "id": "8mvDQHsO0D1V",
        "colab": {
          "base_uri": "https://localhost:8080/"
        },
        "outputId": "790f042f-4139-41d1-f216-18f20d9ad709"
      },
      "outputs": [
        {
          "output_type": "stream",
          "name": "stdout",
          "text": [
            "Index([    4,     7,    19,    37,    66,    76,    88,    96,   100,   104,\n",
            "       ...\n",
            "       60445, 60451, 60457, 60460, 60461, 60463, 60474, 60478, 60484, 60496],\n",
            "      dtype='object', length=8681)\n",
            "Index([      1,       4,       7,      10,      19,      21,      26,      27,\n",
            "            29,      37,\n",
            "       ...\n",
            "         60478,   60479,   60480,   60482,   60484,   60485,   60490,   60496,\n",
            "         60497, 'label'],\n",
            "      dtype='object', length=18743)\n",
            "[4 7 19 ... 60478 60484 60496] 8589\n"
          ]
        }
      ],
      "source": [
        "# Find common attributes for both classes that\n",
        "# only have zero values\n",
        "\n",
        "import numpy as np\n",
        "\n",
        "aux_abnormal=df_abnormal.iloc[1:,]\n",
        "aux_abnormal_cols=aux_abnormal.columns[(aux_abnormal == 0).all()]\n",
        "print(aux_abnormal_cols)\n",
        "\n",
        "aux_normal=df_normal.iloc[1:,]\n",
        "aux_normal_cols=aux_normal.columns[(aux_normal == 0).all()]\n",
        "print(aux_normal_cols)\n",
        "\n",
        "# print(np.where(aux_normal_cols=='label'))\n",
        "# Delete the 'label' column here, as it only has zero\n",
        "# values because it is the negative class label\n",
        "aux_normal_cols = aux_normal_cols.delete(18742)\n",
        "\n",
        "comun = np.intersect1d(aux_abnormal_cols, aux_normal_cols)\n",
        "print(comun, comun.size)"
      ]
    },
    {
      "cell_type": "code",
      "execution_count": null,
      "metadata": {
        "id": "3x_04yObnGaD"
      },
      "outputs": [],
      "source": [
        "from sklearn.ensemble import RandomForestRegressor\n",
        "import numpy as np\n",
        "import matplotlib.pyplot as plt"
      ]
    },
    {
      "cell_type": "code",
      "execution_count": null,
      "metadata": {
        "id": "j4rCHJveOUxT"
      },
      "outputs": [],
      "source": [
        "# Delete the first row for both sets, it only \n",
        "# has identifiers that are not useful here\n",
        "df_normal = df_normal.iloc[1:,]\n",
        "df_normal = df_normal.drop(comun, axis=1)\n",
        "df_abnormal = df_abnormal.iloc[1:,]\n",
        "df_abnormal = df_abnormal.drop(comun, axis=1)"
      ]
    },
    {
      "cell_type": "code",
      "execution_count": null,
      "metadata": {
        "id": "8PF-gzQtnGaG",
        "colab": {
          "base_uri": "https://localhost:8080/"
        },
        "outputId": "356848bc-46fe-4f3b-de18-4d36dc25f884"
      },
      "outputs": [
        {
          "output_type": "stream",
          "name": "stdout",
          "text": [
            "(394,) (168,)\n"
          ]
        }
      ],
      "source": [
        "# Concatenate both datasets\n",
        "data = pd.concat([df_normal,df_abnormal], ignore_index=True)\n",
        "data = data.sample(n=data.shape[0], random_state=2)\n",
        "# Number of trees for Random Forest\n",
        "ntrees=100\n",
        "\n",
        "# Selecting the last column as label\n",
        "Y= data['label']\n",
        "X= data.iloc[:,:-1] \n",
        "X = np.asarray(X) \n",
        "Y = np.asarray(Y)\n",
        "\n",
        "# Training and test sets\n",
        "test_size = int(np.floor(0.30*X.shape[0]) )\n",
        "trainX, testX = X[:-test_size], X[-test_size:]\n",
        "trainY, testY = Y[:-test_size], Y[-test_size:]\n",
        "print(trainY.shape,testY.shape)"
      ]
    },
    {
      "cell_type": "code",
      "execution_count": null,
      "metadata": {
        "id": "qJUb9jTWRVc9"
      },
      "outputs": [],
      "source": [
        "# Normalize train and test set\n",
        "from sklearn.preprocessing import MinMaxScaler\n",
        "scaler = MinMaxScaler()\n",
        "trainX = scaler.fit_transform(trainX)\n",
        "testX = scaler.fit_transform(testX)"
      ]
    },
    {
      "cell_type": "code",
      "execution_count": null,
      "metadata": {
        "colab": {
          "base_uri": "https://localhost:8080/"
        },
        "id": "GJB84-bxnGaJ",
        "outputId": "35ffc8dc-20ee-4d75-c7de-b054a76a7db1"
      },
      "outputs": [
        {
          "output_type": "execute_result",
          "data": {
            "text/plain": [
              "0.5667513924050633"
            ]
          },
          "metadata": {},
          "execution_count": 12
        }
      ],
      "source": [
        "# Train first Random Forest\n",
        "from sklearn import preprocessing\n",
        "\n",
        "clf=RandomForestRegressor(n_estimators=ntrees, random_state=50)\n",
        "\n",
        "clf.fit(trainX,trainY)\n",
        "clf.score(testX, testY)"
      ]
    },
    {
      "cell_type": "code",
      "execution_count": null,
      "metadata": {
        "colab": {
          "base_uri": "https://localhost:8080/",
          "height": 458
        },
        "id": "2aaJZj-6c-Wj",
        "outputId": "b2de65a0-2ee3-4b60-e278-0f020bb2490b"
      },
      "outputs": [
        {
          "output_type": "stream",
          "name": "stdout",
          "text": [
            "test 0s number:   10\n",
            "test 1s number:   158\n"
          ]
        },
        {
          "output_type": "execute_result",
          "data": {
            "text/plain": [
              "<matplotlib.legend.Legend at 0x7ff5e4518650>"
            ]
          },
          "metadata": {},
          "execution_count": 14
        },
        {
          "output_type": "display_data",
          "data": {
            "text/plain": [
              "<Figure size 432x432 with 1 Axes>"
            ],
            "image/png": "[encoded data removed]"
          },
          "metadata": {
            "needs_background": "light"
          }
        }
      ],
      "source": [
        "# Visualize Random Forest predictions\n",
        "pred = clf.predict(testX)\n",
        "fig,ax = plt.subplots(nrows=1,ncols=1,figsize=(6,6))# 6,6\n",
        "plt.figure(1) \n",
        "plt.style.use('seaborn-deep')  \n",
        "\n",
        "c=np.where(testY==0)\n",
        "print(\"test 0s number:  \",len(c[0]))\n",
        "plt.hist(pred[c[0]],50,histtype='step',color='darkorange', label= \"normal (%d cases in testset) \" % (len(c[0]) ))\n",
        "c=np.where(testY==1)\n",
        "print(\"test 1s number:  \", len(c[0]))\n",
        "plt.hist(pred[c[0]],50,histtype='step',color='blue', label= \"abnormal (%d cases in testset) \" % (len(c[0]) ))\n",
        "plt.ylabel('Numbers of events')\n",
        "plt.xlabel('Predicted score')\n",
        "plt.yscale(\"log\")\n",
        "title=\"normal versus abnormal as Primary Site\"\n",
        "plt.title(title)\n",
        "plt.legend(loc='upper center')"
      ]
    },
    {
      "cell_type": "code",
      "execution_count": null,
      "metadata": {
        "id": "SKN1o_7TYfJk"
      },
      "outputs": [],
      "source": [
        "indexes = (-clf.feature_importances_).argsort()[:5000]"
      ]
    },
    {
      "cell_type": "code",
      "execution_count": null,
      "metadata": {
        "colab": {
          "base_uri": "https://localhost:8080/"
        },
        "id": "5JIezDYpaJsV",
        "outputId": "0a75c861-4628-4e96-8d98-36945d9e49d0"
      },
      "outputs": [
        {
          "output_type": "stream",
          "name": "stderr",
          "text": [
            "/usr/local/lib/python3.7/dist-packages/ipykernel_launcher.py:2: SettingWithCopyWarning: \n",
            "A value is trying to be set on a copy of a slice from a DataFrame.\n",
            "Try using .loc[row_indexer,col_indexer] = value instead\n",
            "\n",
            "See the caveats in the documentation: https://pandas.pydata.org/pandas-docs/stable/user_guide/indexing.html#returning-a-view-versus-a-copy\n",
            "  \n",
            "/usr/local/lib/python3.7/dist-packages/ipykernel_launcher.py:5: SettingWithCopyWarning: \n",
            "A value is trying to be set on a copy of a slice from a DataFrame.\n",
            "Try using .loc[row_indexer,col_indexer] = value instead\n",
            "\n",
            "See the caveats in the documentation: https://pandas.pydata.org/pandas-docs/stable/user_guide/indexing.html#returning-a-view-versus-a-copy\n",
            "  \"\"\"\n"
          ]
        }
      ],
      "source": [
        "# Keep the 5000 important attributes\n",
        "new_normal = df_normal.iloc[:, indexes]\n",
        "new_normal['label'] = 0\n",
        "\n",
        "new_abnormal = df_abnormal.iloc[:, indexes]\n",
        "new_abnormal['label'] = 1"
      ]
    },
    {
      "cell_type": "code",
      "execution_count": null,
      "metadata": {
        "colab": {
          "base_uri": "https://localhost:8080/"
        },
        "id": "D96MBuBfaVcC",
        "outputId": "282ba080-e476-41e2-89ab-ec60fb2b36f7"
      },
      "outputs": [
        {
          "output_type": "stream",
          "name": "stdout",
          "text": [
            "(394,) (168,)\n"
          ]
        }
      ],
      "source": [
        "# Concatenate both sets again\n",
        "new_data = pd.concat([new_normal,new_abnormal], ignore_index=True)\n",
        "new_data = new_data.sample(n=new_data.shape[0],random_state=2)\n",
        "# Some parameters\n",
        "ntrees=100\n",
        "\n",
        "# Selecting the last column as label\n",
        "new_Y= new_data['label']\n",
        "new_X= new_data.iloc[:,:-1] \n",
        "new_X = np.asarray(new_X) \n",
        "new_Y = np.asarray(new_Y)\n",
        "\n",
        "# Training and test sets\n",
        "test_size = int(np.floor(0.30*new_X.shape[0]) )\n",
        "new_trainX, new_testX = new_X[:-test_size], new_X[-test_size:]\n",
        "new_trainY, new_testY = new_Y[:-test_size], new_Y[-test_size:]\n",
        "print(new_trainY.shape,new_testY.shape)"
      ]
    },
    {
      "cell_type": "code",
      "execution_count": null,
      "metadata": {
        "id": "a8_J1XuLQuwZ"
      },
      "outputs": [],
      "source": [
        "# Normalize the new train/test sets\n",
        "new_trainX = scaler.fit_transform(new_trainX)\n",
        "new_testX = scaler.fit_transform(new_testX)"
      ]
    },
    {
      "cell_type": "code",
      "execution_count": null,
      "metadata": {
        "colab": {
          "base_uri": "https://localhost:8080/"
        },
        "id": "y16OXv9rcuQd",
        "outputId": "1bd9c638-5d64-49c3-8e37-5fb76b7c14ed"
      },
      "outputs": [
        {
          "output_type": "execute_result",
          "data": {
            "text/plain": [
              "0.6384916455696203"
            ]
          },
          "metadata": {},
          "execution_count": 19
        }
      ],
      "source": [
        "new_clf=RandomForestRegressor(n_estimators=ntrees, random_state=8) #random_state=50\n",
        "# Train the new classifier using the reduced dataset\n",
        "new_clf.fit(new_trainX,new_trainY)\n",
        "new_clf.score(new_testX, new_testY)"
      ]
    },
    {
      "cell_type": "code",
      "execution_count": null,
      "metadata": {
        "colab": {
          "base_uri": "https://localhost:8080/",
          "height": 458
        },
        "id": "5z576JNrcRne",
        "outputId": "bfdbaa00-b771-4676-b195-e68d79259d7a"
      },
      "outputs": [
        {
          "output_type": "stream",
          "name": "stdout",
          "text": [
            "test 0s number:   10\n",
            "test 1s number:   158\n"
          ]
        },
        {
          "output_type": "execute_result",
          "data": {
            "text/plain": [
              "<matplotlib.legend.Legend at 0x7ff5e3e8b4d0>"
            ]
          },
          "metadata": {},
          "execution_count": 20
        },
        {
          "output_type": "display_data",
          "data": {
            "text/plain": [
              "<Figure size 432x432 with 1 Axes>"
            ],
            "image/png": "[encoded data removed]"
          },
          "metadata": {
            "needs_background": "light"
          }
        }
      ],
      "source": [
        "# Show the new predictions\n",
        "pred = new_clf.predict(new_testX)\n",
        "fig,ax = plt.subplots(nrows=1,ncols=1,figsize=(6,6))# 6,6\n",
        "plt.figure(1) \n",
        "plt.style.use('seaborn-deep')  \n",
        "\n",
        "c=np.where(testY==0)\n",
        "print(\"test 0s number:  \",len(c[0]))\n",
        "plt.hist(pred[c[0]],50,histtype='step',color='darkorange', label= \"normal (%d cases in testset) \" % (len(c[0]) ))\n",
        "c=np.where(testY==1)\n",
        "print(\"test 1s number:  \", len(c[0]))\n",
        "plt.hist(pred[c[0]],50,histtype='step',color='blue', label= \"abnormal (%d cases in testset) \" % (len(c[0]) ))\n",
        "plt.ylabel('Numbers of events')\n",
        "plt.xlabel('Predicted score')\n",
        "plt.yscale(\"log\")\n",
        "title=\"normal versus abnormal as Primary Site\"\n",
        "plt.title(title)\n",
        "plt.legend(loc='upper center')"
      ]
    },
    {
      "cell_type": "markdown",
      "metadata": {
        "id": "eCIxSYmFeW0h"
      },
      "source": [
        "**VAE**"
      ]
    },
    {
      "cell_type": "code",
      "execution_count": null,
      "metadata": {
        "id": "6rXmLHE_y74E"
      },
      "outputs": [],
      "source": [
        "from tensorflow import keras\n",
        "from keras.layers.merge import concatenate as concat\n",
        "from tensorflow.keras.layers import Lambda, Input, Dense\n",
        "from tensorflow.keras.models import Model\n",
        "from tensorflow.keras.datasets import mnist\n",
        "from tensorflow.keras.losses import mse, binary_crossentropy, BinaryFocalCrossentropy\n",
        "from tensorflow.keras.metrics import binary_focal_crossentropy\n",
        "from tensorflow.keras.utils import plot_model\n",
        "from tensorflow.keras import backend as K"
      ]
    },
    {
      "cell_type": "code",
      "execution_count": null,
      "metadata": {
        "id": "1wGlZiKEzTMb"
      },
      "outputs": [],
      "source": [
        "def sampling(args):\n",
        "    \"\"\"Reparameterization trick by sampling \n",
        "        fr an isotropic unit Gaussian.\n",
        "    # Arguments:\n",
        "        args (tensor): mean and log of variance of Q(z|X)\n",
        "    # Returns:\n",
        "        z (tensor): sampled latent vector\n",
        "    \"\"\"\n",
        "\n",
        "    z_mean, z_log_var = args\n",
        "    # K is the keras backend\n",
        "    batch = K.shape(z_mean)[0]\n",
        "    dim = K.int_shape(z_mean)[1]\n",
        "    # by default, random_normal has mean=0 and std=1.0\n",
        "    epsilon = K.random_normal(shape=(batch, dim))\n",
        "    return z_mean + K.exp(0.5 * z_log_var) * epsilon"
      ]
    },
    {
      "cell_type": "code",
      "execution_count": null,
      "metadata": {
        "colab": {
          "base_uri": "https://localhost:8080/"
        },
        "id": "cSnnjkKmzbWg",
        "outputId": "fb95591f-5ea5-46af-bbec-bd4b7ebab582"
      },
      "outputs": [
        {
          "output_type": "stream",
          "name": "stdout",
          "text": [
            "Model: \"encoder\"\n",
            "__________________________________________________________________________________________________\n",
            " Layer (type)                   Output Shape         Param #     Connected to                     \n",
            "==================================================================================================\n",
            " encoder_input (InputLayer)     [(None, 5000)]       0           []                               \n",
            "                                                                                                  \n",
            " dense (Dense)                  (None, 4000)         20004000    ['encoder_input[0][0]']          \n",
            "                                                                                                  \n",
            " dense_1 (Dense)                (None, 3000)         12003000    ['dense[0][0]']                  \n",
            "                                                                                                  \n",
            " z_mean (Dense)                 (None, 2000)         6002000     ['dense_1[0][0]']                \n",
            "                                                                                                  \n",
            " z_log_var (Dense)              (None, 2000)         6002000     ['dense_1[0][0]']                \n",
            "                                                                                                  \n",
            " z (Lambda)                     (None, 2000)         0           ['z_mean[0][0]',                 \n",
            "                                                                  'z_log_var[0][0]']              \n",
            "                                                                                                  \n",
            "==================================================================================================\n",
            "Total params: 44,011,000\n",
            "Trainable params: 44,011,000\n",
            "Non-trainable params: 0\n",
            "__________________________________________________________________________________________________\n"
          ]
        }
      ],
      "source": [
        "# build encoder model\n",
        "inputs = Input(shape=5000, name='encoder_input')\n",
        "x = Dense(4000, activation='relu')(inputs)\n",
        "x = Dense(3000, activation='relu')(x)\n",
        "z_mean = Dense(2000, name='z_mean')(x)\n",
        "z_log_var = Dense(2000, name='z_log_var')(x)\n",
        "\n",
        "# use reparameterization trick to push the sampling out as input\n",
        "# note that \"output_shape\" isn't necessary \n",
        "# with the TensorFlow backend\n",
        "z = Lambda(sampling,\n",
        "           output_shape=(2000,), \n",
        "           name='z')([z_mean, z_log_var])\n",
        "\n",
        "# instantiate encoder model\n",
        "encoder = Model(inputs, [z_mean, z_log_var, z], name='encoder')\n",
        "encoder.summary()"
      ]
    },
    {
      "cell_type": "code",
      "execution_count": null,
      "metadata": {
        "colab": {
          "base_uri": "https://localhost:8080/"
        },
        "id": "VUS-OUlszh4M",
        "outputId": "e636e7b3-e543-4986-9b1a-a7619e90e5fa"
      },
      "outputs": [
        {
          "output_type": "stream",
          "name": "stdout",
          "text": [
            "Model: \"decoder\"\n",
            "_________________________________________________________________\n",
            " Layer (type)                Output Shape              Param #   \n",
            "=================================================================\n",
            " z_sampling (InputLayer)     [(None, 2000)]            0         \n",
            "                                                                 \n",
            " dense_2 (Dense)             (None, 3000)              6003000   \n",
            "                                                                 \n",
            " dense_3 (Dense)             (None, 4000)              12004000  \n",
            "                                                                 \n",
            " dense_4 (Dense)             (None, 5000)              20005000  \n",
            "                                                                 \n",
            "=================================================================\n",
            "Total params: 38,012,000\n",
            "Trainable params: 38,012,000\n",
            "Non-trainable params: 0\n",
            "_________________________________________________________________\n"
          ]
        }
      ],
      "source": [
        "# build decoder model\n",
        "latent_inputs = Input(shape=(2000,), name='z_sampling')\n",
        "x = Dense(3000, activation='relu')(latent_inputs)\n",
        "x = Dense(4000, activation='relu')(x)\n",
        "outputs = Dense(5000, activation='sigmoid')(x)\n",
        "\n",
        "# instantiate decoder model\n",
        "decoder = Model(latent_inputs, outputs, name='decoder')\n",
        "decoder.summary()"
      ]
    },
    {
      "cell_type": "code",
      "execution_count": null,
      "metadata": {
        "colab": {
          "base_uri": "https://localhost:8080/"
        },
        "id": "DN-NF9exrIQl",
        "outputId": "1bdfbd6e-957d-47e7-b149-fe5db9c6d21f"
      },
      "outputs": [
        {
          "output_type": "stream",
          "name": "stdout",
          "text": [
            "Model: \"vae_mlp\"\n",
            "__________________________________________________________________________________________________\n",
            " Layer (type)                   Output Shape         Param #     Connected to                     \n",
            "==================================================================================================\n",
            " encoder_input (InputLayer)     [(None, 5000)]       0           []                               \n",
            "                                                                                                  \n",
            " encoder (Functional)           [(None, 2000),       44011000    ['encoder_input[0][0]']          \n",
            "                                 (None, 2000),                                                    \n",
            "                                 (None, 2000)]                                                    \n",
            "                                                                                                  \n",
            " decoder (Functional)           (None, 5000)         38012000    ['encoder[0][2]']                \n",
            "                                                                                                  \n",
            " dense (Dense)                  (None, 4000)         20004000    ['encoder_input[0][0]']          \n",
            "                                                                                                  \n",
            " dense_1 (Dense)                (None, 3000)         12003000    ['dense[0][0]']                  \n",
            "                                                                                                  \n",
            " z_log_var (Dense)              (None, 2000)         6002000     ['dense_1[0][0]']                \n",
            "                                                                                                  \n",
            " z_mean (Dense)                 (None, 2000)         6002000     ['dense_1[0][0]']                \n",
            "                                                                                                  \n",
            " tf.__operators__.add (TFOpLamb  (None, 2000)        0           ['z_log_var[0][0]']              \n",
            " da)                                                                                              \n",
            "                                                                                                  \n",
            " tf.math.square (TFOpLambda)    (None, 2000)         0           ['z_mean[0][0]']                 \n",
            "                                                                                                  \n",
            " tf.cast (TFOpLambda)           (None, 5000)         0           ['encoder_input[0][0]']          \n",
            "                                                                                                  \n",
            " tf.convert_to_tensor (TFOpLamb  (None, 5000)        0           ['decoder[0][0]']                \n",
            " da)                                                                                              \n",
            "                                                                                                  \n",
            " tf.math.subtract (TFOpLambda)  (None, 2000)         0           ['tf.__operators__.add[0][0]',   \n",
            "                                                                  'tf.math.square[0][0]']         \n",
            "                                                                                                  \n",
            " tf.math.exp (TFOpLambda)       (None, 2000)         0           ['z_log_var[0][0]']              \n",
            "                                                                                                  \n",
            " tf.keras.backend.binary_crosse  (None, 5000)        0           ['tf.cast[0][0]',                \n",
            " ntropy (TFOpLambda)                                              'tf.convert_to_tensor[0][0]']   \n",
            "                                                                                                  \n",
            " tf.math.subtract_1 (TFOpLambda  (None, 2000)        0           ['tf.math.subtract[0][0]',       \n",
            " )                                                                'tf.math.exp[0][0]']            \n",
            "                                                                                                  \n",
            " tf.math.reduce_mean (TFOpLambd  (None,)             0           ['tf.keras.backend.binary_crossen\n",
            " a)                                                              tropy[0][0]']                    \n",
            "                                                                                                  \n",
            " tf.math.reduce_sum (TFOpLambda  (None,)             0           ['tf.math.subtract_1[0][0]']     \n",
            " )                                                                                                \n",
            "                                                                                                  \n",
            " tf.math.multiply (TFOpLambda)  (None,)              0           ['tf.math.reduce_mean[0][0]']    \n",
            "                                                                                                  \n",
            " tf.math.multiply_1 (TFOpLambda  (None,)             0           ['tf.math.reduce_sum[0][0]']     \n",
            " )                                                                                                \n",
            "                                                                                                  \n",
            " tf.__operators__.add_1 (TFOpLa  (None,)             0           ['tf.math.multiply[0][0]',       \n",
            " mbda)                                                            'tf.math.multiply_1[0][0]']     \n",
            "                                                                                                  \n",
            " tf.math.reduce_mean_1 (TFOpLam  ()                  0           ['tf.__operators__.add_1[0][0]'] \n",
            " bda)                                                                                             \n",
            "                                                                                                  \n",
            " add_loss (AddLoss)             ()                   0           ['tf.math.reduce_mean_1[0][0]']  \n",
            "                                                                                                  \n",
            "==================================================================================================\n",
            "Total params: 82,023,000\n",
            "Trainable params: 82,023,000\n",
            "Non-trainable params: 0\n",
            "__________________________________________________________________________________________________\n"
          ]
        }
      ],
      "source": [
        "# instantiate VAE model\n",
        "\n",
        "outputs = decoder(encoder(inputs)[2])\n",
        "vae = Model(inputs, outputs, name='vae_mlp')\n",
        "\n",
        "reconstruction_loss = binary_crossentropy(inputs,outputs)\n",
        "reconstruction_loss *= 10000\n",
        "# loss = BinaryFocalCrossentropy(gamma=10)\n",
        "# reconstruction_loss = loss(inputs,outputs)\n",
        "# reconstruction_loss *= 5000\n",
        "kl_loss = 1 + z_log_var - K.square(z_mean) - K.exp(z_log_var)\n",
        "kl_loss = K.sum(kl_loss, axis=-1)\n",
        "kl_loss *= -0.5\n",
        "vae_loss = K.mean(reconstruction_loss + kl_loss)\n",
        "vae.add_loss(vae_loss)\n",
        "vae.compile(keras.optimizers.Adam(learning_rate=0.0001))\n",
        "vae.summary()"
      ]
    },
    {
      "cell_type": "code",
      "execution_count": null,
      "metadata": {
        "colab": {
          "base_uri": "https://localhost:8080/"
        },
        "id": "9c62YIpp0G9Z",
        "outputId": "1285ca72-ac2f-4949-d78c-723b0559ed09"
      },
      "outputs": [
        {
          "output_type": "stream",
          "name": "stdout",
          "text": [
            "Epoch 1/1000\n",
            "33/33 [==============================] - 5s 32ms/step - loss: 4689.4907 - val_loss: 4366.7388\n",
            "Epoch 2/1000\n",
            "33/33 [==============================] - 1s 26ms/step - loss: 4129.0483 - val_loss: 4306.0869\n",
            "Epoch 3/1000\n",
            "33/33 [==============================] - 1s 26ms/step - loss: 4105.6919 - val_loss: 4289.5151\n",
            "Epoch 4/1000\n",
            "33/33 [==============================] - 1s 25ms/step - loss: 4094.7585 - val_loss: 4282.3882\n",
            "Epoch 5/1000\n",
            "33/33 [==============================] - 1s 26ms/step - loss: 4089.8735 - val_loss: 4278.1040\n",
            "Epoch 6/1000\n",
            "33/33 [==============================] - 1s 26ms/step - loss: 4082.5198 - val_loss: 4266.7319\n",
            "Epoch 7/1000\n",
            "33/33 [==============================] - 1s 25ms/step - loss: 4075.7097 - val_loss: 4262.8931\n",
            "Epoch 8/1000\n",
            "33/33 [==============================] - 1s 25ms/step - loss: 4070.7783 - val_loss: 4262.9854\n",
            "Epoch 9/1000\n",
            "33/33 [==============================] - 1s 26ms/step - loss: 4064.6382 - val_loss: 4267.2002\n",
            "Epoch 10/1000\n",
            "33/33 [==============================] - 1s 26ms/step - loss: 4058.7935 - val_loss: 4266.0952\n",
            "Epoch 11/1000\n",
            "33/33 [==============================] - 1s 26ms/step - loss: 4054.1582 - val_loss: 4250.9590\n",
            "Epoch 12/1000\n",
            "33/33 [==============================] - 1s 26ms/step - loss: 4051.9285 - val_loss: 4261.2974\n",
            "Epoch 13/1000\n",
            "33/33 [==============================] - 1s 25ms/step - loss: 4046.4722 - val_loss: 4236.5205\n",
            "Epoch 14/1000\n",
            "33/33 [==============================] - 1s 26ms/step - loss: 4041.1235 - val_loss: 4235.7979\n",
            "Epoch 15/1000\n",
            "33/33 [==============================] - 1s 26ms/step - loss: 4034.9275 - val_loss: 4230.1606\n",
            "Epoch 16/1000\n",
            "33/33 [==============================] - 1s 26ms/step - loss: 4024.1311 - val_loss: 4216.7202\n",
            "Epoch 17/1000\n",
            "33/33 [==============================] - 1s 26ms/step - loss: 4015.8726 - val_loss: 4215.5645\n",
            "Epoch 18/1000\n",
            "33/33 [==============================] - 1s 26ms/step - loss: 4010.7927 - val_loss: 4207.6001\n",
            "Epoch 19/1000\n",
            "33/33 [==============================] - 1s 26ms/step - loss: 4004.6833 - val_loss: 4214.7417\n",
            "Epoch 20/1000\n",
            "33/33 [==============================] - 1s 26ms/step - loss: 3991.7244 - val_loss: 4196.5244\n",
            "Epoch 21/1000\n",
            "33/33 [==============================] - 1s 25ms/step - loss: 3987.3320 - val_loss: 4195.1108\n",
            "Epoch 22/1000\n",
            "33/33 [==============================] - 1s 26ms/step - loss: 3986.3528 - val_loss: 4187.2725\n",
            "Epoch 23/1000\n",
            "33/33 [==============================] - 1s 26ms/step - loss: 3979.4336 - val_loss: 4182.8193\n",
            "Epoch 24/1000\n",
            "33/33 [==============================] - 1s 26ms/step - loss: 3974.1189 - val_loss: 4179.1768\n",
            "Epoch 25/1000\n",
            "33/33 [==============================] - 1s 25ms/step - loss: 3967.3433 - val_loss: 4179.9346\n",
            "Epoch 26/1000\n",
            "33/33 [==============================] - 1s 26ms/step - loss: 3966.0134 - val_loss: 4173.8589\n",
            "Epoch 27/1000\n",
            "33/33 [==============================] - 1s 26ms/step - loss: 3958.0774 - val_loss: 4172.9897\n",
            "Epoch 28/1000\n",
            "33/33 [==============================] - 1s 26ms/step - loss: 3956.0532 - val_loss: 4172.3604\n",
            "Epoch 29/1000\n",
            "33/33 [==============================] - 1s 25ms/step - loss: 3946.6455 - val_loss: 4167.5640\n",
            "Epoch 30/1000\n",
            "33/33 [==============================] - 1s 26ms/step - loss: 3944.1858 - val_loss: 4168.6162\n",
            "Epoch 31/1000\n",
            "33/33 [==============================] - 1s 26ms/step - loss: 3940.5000 - val_loss: 4160.6147\n",
            "Epoch 32/1000\n",
            "33/33 [==============================] - 1s 26ms/step - loss: 3938.2305 - val_loss: 4160.7607\n",
            "Epoch 33/1000\n",
            "33/33 [==============================] - 1s 25ms/step - loss: 3930.8120 - val_loss: 4155.6997\n",
            "Epoch 34/1000\n",
            "33/33 [==============================] - 1s 26ms/step - loss: 3929.8149 - val_loss: 4160.5063\n",
            "Epoch 35/1000\n",
            "33/33 [==============================] - 1s 26ms/step - loss: 3926.4321 - val_loss: 4148.5654\n",
            "Epoch 36/1000\n",
            "33/33 [==============================] - 1s 26ms/step - loss: 3920.2434 - val_loss: 4162.0239\n",
            "Epoch 37/1000\n",
            "33/33 [==============================] - 1s 26ms/step - loss: 3920.4397 - val_loss: 4165.3052\n",
            "Epoch 38/1000\n",
            "33/33 [==============================] - 1s 26ms/step - loss: 3916.9653 - val_loss: 4154.3750\n",
            "Epoch 39/1000\n",
            "33/33 [==============================] - 1s 25ms/step - loss: 3915.0916 - val_loss: 4149.4517\n",
            "Epoch 40/1000\n",
            "33/33 [==============================] - 1s 26ms/step - loss: 3910.3494 - val_loss: 4157.4653\n",
            "Epoch 41/1000\n",
            "33/33 [==============================] - 1s 26ms/step - loss: 3910.7834 - val_loss: 4146.7651\n",
            "Epoch 42/1000\n",
            "33/33 [==============================] - 1s 26ms/step - loss: 3909.5042 - val_loss: 4178.8267\n",
            "Epoch 43/1000\n",
            "33/33 [==============================] - 1s 26ms/step - loss: 3900.0674 - val_loss: 4152.0342\n",
            "Epoch 44/1000\n",
            "33/33 [==============================] - 1s 26ms/step - loss: 3899.9741 - val_loss: 4164.9468\n",
            "Epoch 45/1000\n",
            "33/33 [==============================] - 1s 26ms/step - loss: 3897.3245 - val_loss: 4144.6528\n",
            "Epoch 46/1000\n",
            "33/33 [==============================] - 1s 26ms/step - loss: 3896.8950 - val_loss: 4145.4858\n",
            "Epoch 47/1000\n",
            "33/33 [==============================] - 1s 26ms/step - loss: 3892.7781 - val_loss: 4149.1294\n",
            "Epoch 48/1000\n",
            "33/33 [==============================] - 1s 26ms/step - loss: 3896.3687 - val_loss: 4175.8022\n",
            "Epoch 49/1000\n",
            "33/33 [==============================] - 1s 26ms/step - loss: 3889.9502 - val_loss: 4147.4888\n",
            "Epoch 50/1000\n",
            "33/33 [==============================] - 1s 26ms/step - loss: 3889.6287 - val_loss: 4152.6704\n",
            "Epoch 51/1000\n",
            "33/33 [==============================] - 1s 26ms/step - loss: 3885.0049 - val_loss: 4152.7949\n",
            "Epoch 52/1000\n",
            "33/33 [==============================] - 1s 26ms/step - loss: 3883.1941 - val_loss: 4161.5034\n",
            "Epoch 53/1000\n",
            "33/33 [==============================] - 1s 26ms/step - loss: 3882.2961 - val_loss: 4168.9243\n",
            "Epoch 54/1000\n",
            "33/33 [==============================] - 1s 26ms/step - loss: 3883.0198 - val_loss: 4172.1099\n",
            "Epoch 55/1000\n",
            "33/33 [==============================] - 1s 26ms/step - loss: 3878.3760 - val_loss: 4156.5288\n"
          ]
        },
        {
          "output_type": "execute_result",
          "data": {
            "text/plain": [
              "<keras.callbacks.History at 0x7ff5603c05d0>"
            ]
          },
          "metadata": {},
          "execution_count": 26
        }
      ],
      "source": [
        "loss_callback = keras.callbacks.EarlyStopping(monitor='val_loss', patience=10)\n",
        "# save_callback = keras.callbacks.ModelCheckpoint(filepath='training_2d.ckpt',save_best_only=True,save_weights_only=True)\n",
        "vae.fit(new_trainX, epochs=1000, batch_size=12, validation_data=(new_testX, None), callbacks=[loss_callback])"
      ]
    },
    {
      "cell_type": "code",
      "execution_count": null,
      "metadata": {
        "colab": {
          "base_uri": "https://localhost:8080/"
        },
        "id": "v3BLapyAvXbe",
        "outputId": "5ccbb776-00f8-4f3d-ad6c-021a98d8e36e"
      },
      "outputs": [
        {
          "output_type": "stream",
          "name": "stdout",
          "text": [
            "**VALORES PREDICHOS**\n",
            "[[0.580048   0.6197334  0.7448347  ... 0.40438518 0.6206912  0.24336436]\n",
            " [0.44855613 0.8221086  0.7617098  ... 0.4255959  0.6759032  0.6823807 ]\n",
            " [0.66135037 0.6262951  0.8285002  ... 0.4471318  0.5335722  0.1898773 ]\n",
            " ...\n",
            " [0.65657437 0.7248425  0.7251687  ... 0.3881248  0.6260458  0.1739411 ]\n",
            " [0.6203141  0.7022882  0.823741   ... 0.44460383 0.5886869  0.41904858]\n",
            " [0.32641408 0.66535646 0.5795781  ... 0.4323386  0.6716742  0.42660877]]\n",
            "----------------------------------------------\n",
            "**VALORES REALES**\n",
            "[[0.36609192 0.46696794 0.48604534 ... 0.52957399 0.78520274 0.        ]\n",
            " [0.67204932 0.79611036 0.57763465 ... 0.42839839 0.85465165 0.49945524]\n",
            " [0.99033791 0.64363713 0.84747743 ... 0.42306652 0.39275375 0.        ]\n",
            " ...\n",
            " [0.53541878 0.57301869 0.46194039 ... 0.         0.64772708 0.        ]\n",
            " [0.7352533  0.8364311  0.81432721 ... 0.52212236 0.5711335  0.15472054]\n",
            " [0.25022687 0.82612671 0.6110848  ... 0.57879368 0.43729789 0.07364132]]\n",
            "----------------------------------------------\n",
            "0.7275529113924051\n",
            "----------------------------------------------\n",
            "[1.   1.   1.   1.   0.58 1.   1.   1.   1.   0.32 1.   1.   1.   1.\n",
            " 1.   1.   1.   0.02 1.   1.   0.33 1.   1.   1.   0.55 1.   1.   1.\n",
            " 1.   1.   1.   0.96 1.   1.   1.   1.   1.   1.   1.   1.   1.   1.\n",
            " 1.   1.   1.   1.   0.99 1.   1.   1.   1.   1.   1.   1.   1.   1.\n",
            " 1.   1.   0.   0.2  0.98 1.   1.   1.   1.   1.   1.   1.   1.   1.\n",
            " 0.09 1.   1.   1.   1.   1.   1.   1.   1.   1.   1.   0.35 1.   1.\n",
            " 1.   0.55 1.   1.   0.98 1.   1.   1.   1.   0.91 1.   1.   1.   1.\n",
            " 1.   1.   1.   1.   1.   1.   1.   1.   1.   1.   1.   1.   0.02 1.\n",
            " 1.   1.   1.   1.   1.   1.   0.02 1.   1.   1.   1.   1.   1.   1.\n",
            " 1.   1.   1.   1.   1.   1.   1.   1.   1.   1.   1.   1.   0.98 1.\n",
            " 0.82 1.   1.   1.   1.   1.   1.   1.   1.   1.   1.   1.   1.   1.\n",
            " 1.   1.   1.   1.   1.   1.   1.   1.   1.   1.   1.   1.   1.   0.88]\n"
          ]
        }
      ],
      "source": [
        "valores = vae.predict(new_testX)\n",
        "print(\"**VALORES PREDICHOS**\")\n",
        "print(valores)\n",
        "print(\"----------------------------------------------\")\n",
        "print(\"**VALORES REALES**\")\n",
        "print(new_testX)\n",
        "print(\"----------------------------------------------\")\n",
        "pred=new_clf.predict(valores)\n",
        "print(new_clf.score(valores, new_testY))\n",
        "print(\"----------------------------------------------\")\n",
        "print(pred)"
      ]
    },
    {
      "cell_type": "code",
      "execution_count": null,
      "metadata": {
        "colab": {
          "base_uri": "https://localhost:8080/",
          "height": 458
        },
        "id": "XEDEtY6KcjPy",
        "outputId": "3d8b6510-fe04-47ea-ee1f-a283d5489822"
      },
      "outputs": [
        {
          "output_type": "stream",
          "name": "stdout",
          "text": [
            "test 0s number:   10\n",
            "test 1s number:   158\n"
          ]
        },
        {
          "output_type": "execute_result",
          "data": {
            "text/plain": [
              "<matplotlib.legend.Legend at 0x7ff4fa60ddd0>"
            ]
          },
          "metadata": {},
          "execution_count": 28
        },
        {
          "output_type": "display_data",
          "data": {
            "text/plain": [
              "<Figure size 432x432 with 1 Axes>"
            ],
            "image/png": "[encoded data removed]"
          },
          "metadata": {
            "needs_background": "light"
          }
        }
      ],
      "source": [
        "fig,ax = plt.subplots(nrows=1,ncols=1,figsize=(6,6))# 6,6\n",
        "plt.figure(1) \n",
        "plt.style.use('seaborn-deep')  \n",
        "\n",
        "c=np.where(new_testY==0)\n",
        "print(\"test 0s number:  \",len(c[0]))\n",
        "plt.hist(pred[c[0]],50,histtype='step',color='darkorange', label= \"normal (%d cases in testset) \" % (len(c[0]) ))\n",
        "c=np.where(new_testY==1)\n",
        "print(\"test 1s number:  \", len(c[0]))\n",
        "plt.hist(pred[c[0]],50,histtype='step',color='blue', label= \"abnormal (%d cases in testset) \" % (len(c[0]) ))\n",
        "plt.ylabel('Numbers of events')\n",
        "plt.xlabel('Predicted score')\n",
        "plt.yscale(\"log\")\n",
        "title=\"normal versus abnormal as Primary Site\"\n",
        "plt.title(title)\n",
        "plt.legend(loc='upper center')"
      ]
    },
    {
      "cell_type": "code",
      "execution_count": null,
      "metadata": {
        "id": "Wh_PIkh-L3vW"
      },
      "outputs": [],
      "source": [
        "# z_mean_train, _, _ = encoder.predict(new_trainX)\n",
        "\n",
        "# plt.figure(figsize=(12, 10))\n",
        "# zero_index = np.where(new_trainY == 0)\n",
        "# one_index = np.where(new_trainY == 1)\n",
        "# plt.scatter(z_mean_train[one_index, 0], z_mean_train[one_index, 1], c='yellow')\n",
        "# plt.scatter(z_mean_train[zero_index, 0], z_mean_train[zero_index, 1], c='purple')\n",
        "# plt.colorbar()\n",
        "# plt.xlabel(\"z[0]\")\n",
        "# plt.ylabel(\"z[1]\")\n",
        "# plt.show()"
      ]
    },
    {
      "cell_type": "code",
      "execution_count": null,
      "metadata": {
        "id": "lSptmCfsRUAG"
      },
      "outputs": [],
      "source": [
        "# z_mean_test, _, _ = encoder.predict(new_testX)\n",
        "# plt.figure(figsize=(12, 10))\n",
        "# zero_index = np.where(new_testY == 0)\n",
        "# one_index = np.where(new_testY == 1)\n",
        "# plt.scatter(z_mean_test[one_index, 0], z_mean_test[one_index, 1], c='yellow')\n",
        "# plt.scatter(z_mean_test[zero_index, 0], z_mean_test[zero_index, 1], c='purple')\n",
        "# plt.colorbar()\n",
        "# plt.xlabel(\"z[0]\")\n",
        "# plt.ylabel(\"z[1]\")\n",
        "# plt.show()"
      ]
    },
    {
      "cell_type": "code",
      "execution_count": null,
      "metadata": {
        "id": "9HLyH3Hu_DfX"
      },
      "outputs": [],
      "source": [
        "# newer_trainY = np.expand_dims(new_trainY,axis=1)\n",
        "# train_set = np.concatenate((z_mean_train,newer_trainY), axis=1)\n",
        "# newer_testY = np.expand_dims(new_testY,axis=1)\n",
        "# test_set = np.concatenate((z_mean_test,newer_testY), axis=1)\n",
        "# dataset_2d = np.concatenate((train_set,test_set))\n",
        "# np.savetxt(\"dataset_2d.csv\", dataset_2d, delimiter=',')"
      ]
    },
    {
      "cell_type": "code",
      "source": [
        "np.savetxt(\"dataset1.csv\", new_data, delimiter=',')\n",
        "new_data2 = scaler.fit_transform(new_data)\n",
        "np.savetxt(\"dataset2.csv\", new_data2, delimiter=',')"
      ],
      "metadata": {
        "colab": {
          "base_uri": "https://localhost:8080/"
        },
        "id": "_u_0AlwReWkb",
        "outputId": "6b3e166e-7a5e-4564-9908-563904b57738"
      },
      "execution_count": null,
      "outputs": [
        {
          "output_type": "stream",
          "name": "stderr",
          "text": [
            "/usr/local/lib/python3.7/dist-packages/sklearn/utils/validation.py:1692: FutureWarning: Feature names only support names that are all strings. Got feature names with dtypes: ['int', 'str']. An error will be raised in 1.2.\n",
            "  FutureWarning,\n",
            "/usr/local/lib/python3.7/dist-packages/sklearn/utils/validation.py:1692: FutureWarning: Feature names only support names that are all strings. Got feature names with dtypes: ['int', 'str']. An error will be raised in 1.2.\n",
            "  FutureWarning,\n"
          ]
        }
      ]
    },
    {
      "cell_type": "code",
      "source": [
        "z_mean_new, _, _ = encoder.predict(new_X)\n",
        "newer_Y = np.expand_dims(new_Y,axis=1)\n",
        "new_set = np.concatenate((z_mean_new,newer_Y), axis=1)\n",
        "np.savetxt(\"new_dataset.csv\", new_set, delimiter=',')\n",
        "new_set_normalized = scaler.fit_transform(new_set)\n",
        "np.savetxt(\"new_dataset_normalized.csv\", new_set_normalized, delimiter=',')"
      ],
      "metadata": {
        "id": "cQ24hj6MLx8w"
      },
      "execution_count": null,
      "outputs": []
    }
  ],
  "metadata": {
    "accelerator": "GPU",
    "colab": {
      "collapsed_sections": [],
      "provenance": []
    },
    "kernelspec": {
      "display_name": "Python 3",
      "language": "python",
      "name": "python3"
    },
    "language_info": {
      "codemirror_mode": {
        "name": "ipython",
        "version": 3
      },
      "file_extension": ".py",
      "mimetype": "text/x-python",
      "name": "python",
      "nbconvert_exporter": "python",
      "pygments_lexer": "ipython3",
      "version": "3.7.0"
    }
  },
  "nbformat": 4,
  "nbformat_minor": 0
}
